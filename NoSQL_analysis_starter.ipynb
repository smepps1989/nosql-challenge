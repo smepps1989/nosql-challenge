{
 "cells": [
  {
   "cell_type": "markdown",
   "id": "9a57c4c6",
   "metadata": {},
   "source": [
    "# Eat Safe, Love"
   ]
  },
  {
   "cell_type": "markdown",
   "id": "064ef857",
   "metadata": {},
   "source": [
    "## Notebook Set Up"
   ]
  },
  {
   "cell_type": "code",
   "execution_count": null,
   "id": "3ecdd008",
   "metadata": {},
   "outputs": [],
   "source": [
    "from pymongo import MongoClient\n",
    "import pandas as pd\n",
    "from pprint import pprint"
   ]
  },
  {
   "cell_type": "code",
   "execution_count": null,
   "id": "59390c4a",
   "metadata": {},
   "outputs": [],
   "source": [
    "# Create an instance of MongoClient\n",
    "mongo = MongoClient(port=27017)"
   ]
  },
  {
   "cell_type": "code",
   "execution_count": null,
   "id": "71e373c1",
   "metadata": {},
   "outputs": [],
   "source": [
    "# assign the uk_food database to a variable name\n",
    "db = mongo['uk_food']"
   ]
  },
  {
   "cell_type": "code",
   "execution_count": null,
   "id": "18ab463c",
   "metadata": {},
   "outputs": [],
   "source": [
    "# review the collections in our database\n",
    "db.list_collection_names()"
   ]
  },
  {
   "cell_type": "code",
   "execution_count": null,
   "id": "11c9f11b",
   "metadata": {},
   "outputs": [],
   "source": [
    "# assign the collection to a variable\n",
    "establishments = db['establishments']"
   ]
  },
  {
   "cell_type": "markdown",
   "id": "d5671434",
   "metadata": {},
   "source": [
    "## Part 3: Exploratory Analysis\n",
    "Unless otherwise stated, for each question: \n",
    "* Use `count_documents` to display the number of documents contained in the result.\n",
    "* Display the first document in the results using `pprint`.\n",
    "* Convert the result to a Pandas DataFrame, print the number of rows in the DataFrame, and display the first 10 rows."
   ]
  },
  {
   "cell_type": "markdown",
   "id": "314bd884",
   "metadata": {},
   "source": [
    "### 1. Which establishments have a hygiene score equal to 20?"
   ]
  },
  {
   "cell_type": "code",
   "execution_count": null,
   "id": "e6a255a1",
   "metadata": {},
   "outputs": [],
   "source": [
    "# print document in order to index appropriately\n",
    "pprint(establishments.find_one())"
   ]
  },
  {
   "cell_type": "code",
   "execution_count": null,
   "id": "c2da7648",
   "metadata": {},
   "outputs": [],
   "source": [
    "# Find the establishments with a hygiene score of 20\n",
    "hygiene_query = {\"scores.Hygiene\" : {\"$eq\" : 20}}\n",
    "\n",
    "# Use count_documents to display the number of documents in the result\n",
    "query_count = establishments.count_documents(hygiene_query) \n",
    "print(f\"There are {query_count} documents that have a hygiene score of 20.\")\n",
    "\n",
    "# Display the first document in the results using pprint\n",
    "pprint(establishments.find_one(hygiene_query))"
   ]
  },
  {
   "cell_type": "code",
   "execution_count": null,
   "id": "a6e5cece",
   "metadata": {},
   "outputs": [],
   "source": [
    "# Convert the result to a Pandas DataFrame\n",
    "ratings = establishments.find({\"scores.Hygiene\" : {\"$eq\" : 20}})\n",
    "ratings_df = pd.DataFrame(list(ratings))\n",
    "ratings_df.set_index(\"_id\", inplace=True)\n",
    "\n",
    "# Display the number of rows in the DataFrame\n",
    "print(f\"There are {len(ratings_df)} rows within the dataframe.\")\n",
    "\n",
    "# Display the first 10 rows of the DataFrame\n",
    "ratings_df.head(10)"
   ]
  },
  {
   "cell_type": "markdown",
   "id": "0ef4395a",
   "metadata": {},
   "source": [
    "### 2. Which establishments in London have a `RatingValue` greater than or equal to 4?"
   ]
  },
  {
   "cell_type": "code",
   "execution_count": null,
   "id": "93c63829",
   "metadata": {},
   "outputs": [],
   "source": [
    "# Find the establishments with London as the Local Authority and has a RatingValue greater than or equal to 4.\n",
    "london_query = {\"LocalAuthorityName\" : {\"$regex\" : \"London\"}, \"RatingValue\" : {\"$gte\" : 4}}\n",
    "\n",
    "# Use count_documents to display the number of documents in the result\n",
    "print(f\"There are {establishments.count_documents(london_query)} documents that have London as the Local Authority and also a rating of 4 or more.\")\n",
    "\n",
    "# Display the first document in the results using pprint\n",
    "pprint(establishments.find_one(london_query))"
   ]
  },
  {
   "cell_type": "code",
   "execution_count": null,
   "id": "07e24ccb",
   "metadata": {},
   "outputs": [],
   "source": [
    "# Convert the result to a Pandas DataFrame\n",
    "london = establishments.find(london_query)\n",
    "london_df = pd.DataFrame(list(london))\n",
    "london_df.set_index(\"_id\", inplace=True)\n",
    "\n",
    "# Display the number of rows in the DataFrame\n",
    "print(f\"There are {len(london_df)} rows in the DataFrame.\")\n",
    "\n",
    "# Display the first 10 rows of the DataFrame\n",
    "london_df.head(10)"
   ]
  },
  {
   "attachments": {},
   "cell_type": "markdown",
   "id": "4e570caf",
   "metadata": {},
   "source": [
    "### 3. What are the top 5 establishments with a `RatingValue` rating value of 5, sorted by lowest hygiene score, nearest to the new restaurant added, \"Penang Flavours\"?"
   ]
  },
  {
   "cell_type": "code",
   "execution_count": null,
   "id": "7f599f3d",
   "metadata": {},
   "outputs": [],
   "source": [
    "# Search within 0.01 degree on either side of the latitude and longitude.\n",
    "penang = establishments.find_one({\"BusinessName\" : \"Penang Flavours\"})\n",
    "latitude = penang[\"geocode\"][\"latitude\"]\n",
    "longitude = penang[\"geocode\"][\"longitude\"]\n",
    "\n",
    "degree_search = 0.01\n",
    "\n",
    "query = {\"geocode.latitude\" : {\"$gte\" : latitude - degree_search, \"$lte\" : latitude + degree_search, \"$ne\" : latitude},\n",
    "    \"geocode.longitude\" : {\"$gte\" : longitude - degree_search, \"$lte\" : longitude + degree_search, \"$ne\" : longitude},\n",
    "    \"RatingValue\": {\"$eq\" : 5}}\n",
    "\n",
    "\n",
    "# Rating value must equal 5\n",
    "rating = {\"RatingValue\": {\"$eq\" : 5}}\n",
    "\n",
    "# Sort by hygiene score\n",
    "sort = [(\"scores.Hygiene\", 1)]\n",
    "\n",
    "limit = 5\n",
    "\n",
    "results = establishments.find(query).sort(sort).limit(limit)\n",
    "\n",
    "# Print the results\n",
    "for r in range(5):\n",
    "    pprint(results[r])\n"
   ]
  },
  {
   "cell_type": "code",
   "execution_count": null,
   "id": "a6ad16f7",
   "metadata": {},
   "outputs": [],
   "source": [
    "# Convert result to Pandas DataFrame\n",
    "top_closest_df = pd.DataFrame(list(results))\n",
    "top_closest_df.set_index(\"_id\", inplace=True)"
   ]
  },
  {
   "cell_type": "code",
   "execution_count": null,
   "id": "60f2635b",
   "metadata": {},
   "outputs": [],
   "source": [
    "top_closest_df"
   ]
  },
  {
   "cell_type": "markdown",
   "id": "67281254",
   "metadata": {},
   "source": [
    "### 4. How many establishments in each Local Authority area have a hygiene score of 0?"
   ]
  },
  {
   "cell_type": "code",
   "execution_count": null,
   "id": "4eeb227e",
   "metadata": {},
   "outputs": [],
   "source": [
    "# 1. Matches establishments with a hygiene score of 0\n",
    "match_query = {\"$match\": {\"scores.Hygiene\" : 0}}\n",
    "\n",
    "# 2. Groups the matches by Local Authority\n",
    "group_query = {\"$group\" : {\"_id\" : \"$LocalAuthorityName\", \"count\" : {\"$sum\" : 1}}}\n",
    "\n",
    "# 3. Sorts the matches from highest to lowest\n",
    "sort = {\"$sort\" : {\"count\" : -1}}\n",
    "\n",
    "# Create a pipeline\n",
    "pipeline = [match_query, group_query, sort]\n",
    "\n",
    "# Print the number of documents in the result\n",
    "count = list(establishments.aggregate(pipeline))\n",
    "print(f\"There are {len((count))} local authorities within this subset that contain establishments with the best hygiene.\")\n",
    "\n",
    "# Print the first 10 results\n",
    "pprint((count[:10]))"
   ]
  },
  {
   "cell_type": "code",
   "execution_count": null,
   "id": "d8aab364",
   "metadata": {},
   "outputs": [],
   "source": [
    "# Convert the result to a Pandas DataFrame\n",
    "hygiene_df = pd.DataFrame(count)\n",
    "hygiene_df.rename(columns={\"_id\" : \"Local Authority\", \"count\" : \"Number of Establishments\"}, inplace=True)\n",
    "hygiene_df.set_index(\"Local Authority\", inplace=True)\n",
    "\n",
    "# Display the number of rows in the DataFrame\n",
    "print(f\"There are {len(hygiene_df)} rows in this DataFrame.\")\n",
    "\n",
    "# Display the first 10 rows of the DataFrame\n",
    "hygiene_df.head(10)"
   ]
  },
  {
   "cell_type": "code",
   "execution_count": null,
   "id": "498c1db6",
   "metadata": {},
   "outputs": [],
   "source": []
  }
 ],
 "metadata": {
  "kernelspec": {
   "display_name": "Python 3 (ipykernel)",
   "language": "python",
   "name": "python3"
  },
  "language_info": {
   "codemirror_mode": {
    "name": "ipython",
    "version": 3
   },
   "file_extension": ".py",
   "mimetype": "text/x-python",
   "name": "python",
   "nbconvert_exporter": "python",
   "pygments_lexer": "ipython3",
   "version": "3.11.5"
  }
 },
 "nbformat": 4,
 "nbformat_minor": 5
}
